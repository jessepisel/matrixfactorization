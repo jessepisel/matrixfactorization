{
 "cells": [
  {
   "cell_type": "markdown",
   "metadata": {},
   "source": [
    "# Basemap creation"
   ]
  },
  {
   "cell_type": "code",
   "execution_count": null,
   "metadata": {},
   "outputs": [],
   "source": [
    "import geopandas as gpd\n",
    "import pandas as pd\n",
    "import numpy as np\n",
    "import matplotlib.pyplot as plt\n",
    "import matplotlib.colors as colors"
   ]
  },
  {
   "cell_type": "code",
   "execution_count": null,
   "metadata": {},
   "outputs": [],
   "source": [
    "%matplotlib inline"
   ]
  },
  {
   "cell_type": "markdown",
   "metadata": {},
   "source": [
    "# Teapot Dome Maps and Figures"
   ]
  },
  {
   "cell_type": "code",
   "execution_count": null,
   "metadata": {},
   "outputs": [],
   "source": [
    "%%capture\n",
    "wells = pd.read_csv('../00_Munging/TeapotDomeWellHeaders.csv')\n",
    "gdf = gpd.GeoDataFrame(wells, geometry=gpd.points_from_xy(wells.Easting, wells.Northing))\n",
    "gdf.crs = {'init':'EPSG:32056'}\n",
    "reproj = gdf.to_crs({'init':'EPSG:4324'})"
   ]
  },
  {
   "cell_type": "markdown",
   "metadata": {},
   "source": [
    "Read in all the spatial basemap data"
   ]
  },
  {
   "cell_type": "code",
   "execution_count": null,
   "metadata": {},
   "outputs": [],
   "source": [
    "%%capture\n",
    "cities = gpd.read_file('../base_data/cities.shp')\n",
    "cities = cities.to_crs(\"EPSG:4324\")\n",
    "cities = cities[cities.Population>15000]\n",
    "state = gpd.read_file('../base_data/States.shp')\n",
    "state = state.to_crs(\"EPSG:4324\")\n",
    "highway = gpd.read_file('../base_data/Highway_road.shp')\n",
    "highway = highway.to_crs(\"EPSG:4324\")\n",
    "counties = gpd.read_file('../base_data/County_boundaries_polys.shp')\n",
    "counties = counties.to_crs(\"EPSG:4324\")\n",
    "basins = gpd.read_file('../base_data/Basins.shp')\n",
    "basins = basins.to_crs(\"EPSG:4324\")\n",
    "basins.iloc[1,1] = 'GREATER GREEN RIVER BASIN'\n",
    "basins.iloc[5,1] = 'DENVER BASIN'\n",
    "basins = basins[basins.BASIN_NAME.isin(['POWDER RIVER BASIN', 'LARAMIE BASIN', 'HANNA BASIN', 'SHIRLEY BASIN', 'WIND RIVER BASIN',\n",
    "                              'BIGHORN BASIN', 'GREATER GREEN RIVER BASIN', 'DENVER BASIN'])]\n",
    "state = state[state.STATE_NAME.isin(['Wyoming', 'Colorado', 'Montana', 'Idaho', 'Nebraska', 'South Dakota', 'Utah'])]\n",
    "highway = highway[highway['TYPE'] == 'Interstate']"
   ]
  },
  {
   "cell_type": "markdown",
   "metadata": {},
   "source": [
    "Plot the basemaps"
   ]
  },
  {
   "cell_type": "code",
   "execution_count": null,
   "metadata": {},
   "outputs": [],
   "source": [
    "fig, ax = plt.subplots(1,1, figsize=(4,4))\n",
    "reproj.plot(color='k', ax=ax, label='Teapot Dome', markersize=5, zorder=2)\n",
    "cities.plot(color='darkblue', ax=ax, label='Cities', zorder=4)\n",
    "state.plot(edgecolor='gray',color='None', ax=ax, zorder=3)\n",
    "highway.plot(color='black', ax=ax, label='Interstate', zorder=3)\n",
    "counties.plot(color='None', edgecolor='gray', ax=ax, linestyle='--', zorder=3)\n",
    "basins.plot(color='gray', edgecolor='gray', ax=ax, linestyle='-', alpha=0.5, zorder=1)\n",
    "#ax = basins.plot()\n",
    "basins.apply(lambda x: ax.annotate(s=x.BASIN_NAME, xy=x.geometry.centroid.coords[0], ha='center', fontsize=6),axis=1)\n",
    "plt.xlim( -111.5, -103.5)\n",
    "plt.ylim(40.5, 45.5)\n",
    "plt.xticks(fontsize=6)\n",
    "plt.yticks(fontsize=6)\n",
    "plt.xlabel('Longitude', fontsize=6)\n",
    "plt.ylabel('Latitude', fontsize=6)\n",
    "plt.legend(fontsize=6)\n",
    "#plt.savefig('basemap.pdf')"
   ]
  },
  {
   "cell_type": "code",
   "execution_count": null,
   "metadata": {},
   "outputs": [],
   "source": [
    "fig, ax = plt.subplots(1,1, figsize=(1,2))\n",
    "reproj.plot(color='k', ax=ax, markersize=0.5, label='Well', edgecolor='None')\n",
    "\n",
    "plt.xlabel('Longitude', fontsize=6)\n",
    "plt.ylabel('Latitude', fontsize=6)\n",
    "plt.xticks(fontsize=6)\n",
    "plt.yticks(fontsize=6)\n",
    "plt.xlim( -106.25, -106.17)\n",
    "plt.ylim(43.25, 43.35) \n",
    "plt.legend(fontsize=6)\n",
    "#plt.savefig('base_close.pdf')\n",
    "plt.tight_layout()"
   ]
  },
  {
   "cell_type": "markdown",
   "metadata": {},
   "source": [
    "Now read in the error data by well and plot it up"
   ]
  },
  {
   "cell_type": "code",
   "execution_count": null,
   "metadata": {},
   "outputs": [],
   "source": [
    "%%capture\n",
    "by_wellDF = pd.read_csv('../01_teapot_rec_sys/error_map.csv', index_col=[0])\n",
    "gdf = gpd.GeoDataFrame(by_wellDF, geometry=gpd.points_from_xy(by_wellDF.Easting, by_wellDF.Northing))\n",
    "gdf.crs = {'init':'EPSG:32056'}\n",
    "errors = gdf.to_crs({'init':'EPSG:4324'})\n",
    "tops = pd.read_csv(\"../01_teapot_rec_sys/teapot_clean.csv\", index_col=[0]) #read in the top data\n",
    "picksvsmae = pd.merge(errors, pd.DataFrame(tops.API.value_counts().reset_index().rename(columns={'index':'API', 'API':'n_picks'}))\n",
    "         , on='API')\n",
    "errors['Longitude'] = errors.geometry.x\n",
    "errors['Latitude'] = errors.geometry.y"
   ]
  },
  {
   "cell_type": "code",
   "execution_count": null,
   "metadata": {},
   "outputs": [],
   "source": [
    "grid = plt.GridSpec(2, 3, wspace=0.4, hspace=0.1)\n",
    "fig = plt.figure(figsize=(5, 5))\n",
    "\n",
    "ul = plt.subplot(grid[0, :2])\n",
    "u1 = ul.scatter(errors.Longitude, errors.Latitude, c=errors.Well_MAE, \n",
    "            norm=colors.LogNorm(vmin=0.1, vmax=10**2),\n",
    "          cmap='cividis', s=1)\n",
    "ul.set_ylabel('Latitude', fontsize=6, fontname='Calibri')\n",
    "ul.set_xticklabels([-106.27, -106.25,-106.22, -116.2, -106.17],fontsize=6)\n",
    "ul.set_yticklabels([43.22,43.25,43.27,43.3,43.32,43.35],fontsize=6)\n",
    "ul.set_title('Error per Well', fontsize=6, fontname='Calibri')\n",
    "ulcb = fig.colorbar(u1)\n",
    "ulcb.set_label('MAE (m)', fontsize=6, fontname='Calibri')\n",
    "ulcb.ax.tick_params(labelsize=6)\n",
    "\n",
    "ur = plt.subplot(grid[0, 2:])\n",
    "u2 = ur.scatter(picksvsmae.n_picks, picksvsmae.Well_MAE, c=picksvsmae.foldno, cmap=plt.cm.get_cmap('Dark2', 4)\n",
    "            , alpha=0.5, s=5)\n",
    "ur.semilogy()\n",
    "ur.set_ylim(0.001, 1000)\n",
    "ur.set_xlim(0,60)\n",
    "ur.set_xticklabels([0,50],fontsize=6)\n",
    "#ur.set_yticklabels([10^-4,10**-3, 10**-1, 10**1, 10**3],fontsize=6)\n",
    "uppercb = fig.colorbar(u2,ticks=range(4) )\n",
    "uppercb.set_label('Fold Number', fontsize=6, fontname='Calibri')\n",
    "uppercb.set_ticklabels([1,2,3,4])\n",
    "uppercb.ax.tick_params(labelsize=6)\n",
    "ur.set_title('Error and Number of Picks', fontsize=6, fontname='Calibri')\n",
    "\n",
    "ll = plt.subplot(grid[1, :2])\n",
    "l1 = ll.scatter(errors.Longitude, errors.Latitude, c=errors.well_rmse, \n",
    "            norm=colors.LogNorm(vmin=0.1, vmax=10**2),\n",
    "          cmap='cividis', s=1)\n",
    "ll.set_xlabel('Longitude', fontsize=6, fontname='Calibri')\n",
    "ll.set_ylabel('Latitude', fontsize=6, fontname='Calibri')\n",
    "ll.set_xticklabels([-106.27, -106.25,-106.22, -116.2, -106.17],fontsize=6)\n",
    "ll.set_yticklabels([43.22,43.25,43.27,43.3,43.32,43.35],fontsize=6)\n",
    "llcb = fig.colorbar(u1)\n",
    "llcb.set_label('RMSE (m)', fontsize=6, fontname='Calibri')\n",
    "llcb.ax.tick_params(labelsize=6)\n",
    "\n",
    "lr = plt.subplot(grid[1, 2]);\n",
    "l2 = lr.scatter(picksvsmae.n_picks, picksvsmae.well_rmse, c=picksvsmae.foldno, cmap=plt.cm.get_cmap('Dark2', 4)\n",
    "            , alpha=0.5, s=5)\n",
    "lr.semilogy()\n",
    "lr.set_ylim(0.001, 1000)\n",
    "lr.set_xlim(0,60)\n",
    "lr.set_xlabel('Number of Picks per Well', fontsize=6, fontname='Calibri')\n",
    "lr.set_xticklabels([0,50],fontsize=6, fontname='Calibri')\n",
    "#lr.set_yticklabels([10^-4,10**-3, 10**-1, 10**1, 10**3],fontsize=6, fontname='Calibri')\n",
    "lowercb = fig.colorbar(u2,ticks=range(4) )\n",
    "lowercb.set_label('Fold Number', fontsize=6, fontname='Calibri')\n",
    "lowercb.set_ticklabels([1,2,3,4])\n",
    "lowercb.ax.tick_params(labelsize=6)\n",
    "\n",
    "plt.savefig('teapot_map.pdf')"
   ]
  },
  {
   "cell_type": "markdown",
   "metadata": {},
   "source": [
    "# Mannville maps"
   ]
  },
  {
   "cell_type": "code",
   "execution_count": null,
   "metadata": {},
   "outputs": [],
   "source": [
    "error_mann = pd.read_csv('../02_mannville_rec_sys/mann_error_map.csv', index_col=[0])\n",
    "tops = pd.read_csv(r\"../02_mannville_rec_sys/mannville_cleaned.csv\", index_col=[0]) #read in the top data\n"
   ]
  },
  {
   "cell_type": "code",
   "execution_count": null,
   "metadata": {},
   "outputs": [],
   "source": [
    "picksvsmae = pd.merge(error_mann, pd.DataFrame(tops[tops.Quality >=0].SitID.value_counts().reset_index().rename(columns={'index':'SitID', 'SitID':'n_picks'}))\n",
    "         , on='SitID')"
   ]
  },
  {
   "cell_type": "code",
   "execution_count": null,
   "metadata": {},
   "outputs": [],
   "source": [
    "grid = plt.GridSpec(2, 3, wspace=0.4, hspace=0.1)"
   ]
  },
  {
   "cell_type": "code",
   "execution_count": null,
   "metadata": {},
   "outputs": [],
   "source": [
    "fig = plt.figure(figsize=(5, 5))\n",
    "\n",
    "ul = plt.subplot(grid[0, :2])\n",
    "u1 = ul.scatter(error_mann.Longitude, error_mann.Latitude, c=error_mann.Well_MAE, \n",
    "            norm=colors.LogNorm(vmin=0.1, vmax=10**3),\n",
    "          cmap='cividis', s=1)\n",
    "ul.set_ylabel('Latitude', fontsize=6, fontname='Calibri')\n",
    "ul.set_xticklabels([-116,-114,-112,-110],fontsize=6, fontname='Calibri')\n",
    "ul.set_yticklabels([54.5,55,55.5,56,56.5,57,57.5],fontsize=6, fontname='Calibri')\n",
    "ul.set_title('Error per Well', fontsize=6, fontname='Calibri')\n",
    "ulcb = fig.colorbar(u1)\n",
    "ulcb.set_label('MAE (m)', fontsize=6, fontname='Calibri')\n",
    "ulcb.ax.tick_params(labelsize=6)\n",
    "\n",
    "ur = plt.subplot(grid[0, 2])\n",
    "u2 = ur.scatter(picksvsmae.n_picks, picksvsmae.Well_MAE, c=picksvsmae.foldno, cmap=plt.cm.get_cmap('Dark2', 4)\n",
    "            , alpha=0.5, s=5)\n",
    "ur.semilogy()\n",
    "ur.set_ylim(0.001, 10000)\n",
    "ur.set_xlim(0,15)\n",
    "ur.set_xticklabels([0,10],fontsize=6, fontname='Calibri')\n",
    "#ur.set_yticklabels([10^-4,10**-3, 10**-1, 10**1, 10**3],fontsize=6, fontname='Calibri')\n",
    "uppercb = fig.colorbar(u2,ticks=range(4) )\n",
    "uppercb.set_label('Fold Number', fontsize=6, fontname='Calibri')\n",
    "uppercb.set_ticklabels([1,2,3,4])\n",
    "uppercb.ax.tick_params(labelsize=6)\n",
    "ur.set_title('Error and Number of Picks', fontsize=6, fontname='Calibri')\n",
    "\n",
    "ll = plt.subplot(grid[1, :2])\n",
    "l1 = ll.scatter(error_mann.Longitude, error_mann.Latitude, c=error_mann.well_rmse, \n",
    "            norm=colors.LogNorm(vmin=0.1, vmax=10**3),\n",
    "          cmap='cividis', s=1)\n",
    "ll.set_xlabel('Longitude', fontsize=6, fontname='Calibri')\n",
    "ll.set_ylabel('Latitude', fontsize=6, fontname='Calibri')\n",
    "ll.set_xticklabels([-116,-114,-112,-110],fontsize=6, fontname='Calibri')\n",
    "ll.set_yticklabels([54.5,55,55.5,56,56.5,57,57.5],fontsize=6, fontname='Calibri')\n",
    "llcb = fig.colorbar(u1)\n",
    "llcb.set_label('RMSE (m)', fontsize=6, fontname='Calibri')\n",
    "llcb.ax.tick_params(labelsize=6)\n",
    "\n",
    "lr = plt.subplot(grid[1, 2]);\n",
    "l2 = lr.scatter(picksvsmae.n_picks, picksvsmae.well_rmse, c=picksvsmae.foldno, cmap=plt.cm.get_cmap('Dark2', 4)\n",
    "            , alpha=0.5, s=5)\n",
    "lr.semilogy()\n",
    "lr.set_ylim(0.001, 10000)\n",
    "lr.set_xlim(0,15)\n",
    "lr.set_xlabel('Number of Picks per Well', fontsize=6, fontname='Calibri')\n",
    "lr.set_xticklabels([0,10],fontsize=6, fontname='Calibri')\n",
    "#lr.set_yticklabels([10^-4,10**-3, 10**-1, 10**1, 10**3],fontsize=6, fontname='Calibri')\n",
    "lowercb = fig.colorbar(u2,ticks=range(4) )\n",
    "lowercb.set_label('Fold Number', fontsize=6, fontname='Calibri')\n",
    "lowercb.set_ticklabels([1,2,3,4])\n",
    "lowercb.ax.tick_params(labelsize=6)\n",
    "\n",
    "plt.savefig('manneville_map.pdf')"
   ]
  },
  {
   "cell_type": "code",
   "execution_count": null,
   "metadata": {},
   "outputs": [],
   "source": [
    "%%capture\n",
    "cities = gpd.read_file(r'../base_data/ab_cities.shp')\n",
    "cities.crs = {'init':'EPSG:4324'}\n",
    "state = gpd.read_file(r'../base_data/alberta.shp')\n",
    "state = state.to_crs(\"EPSG:4324\")\n",
    "highway = gpd.read_file(r'../base_data/ca_highways.shp')\n",
    "highway = highway.to_crs(\"EPSG:4324\")"
   ]
  },
  {
   "cell_type": "code",
   "execution_count": null,
   "metadata": {},
   "outputs": [],
   "source": [
    "gdf = gpd.GeoDataFrame(error_mann, geometry=gpd.points_from_xy(error_mann.Longitude, error_mann.Latitude))\n",
    "gdf.crs = {'init':'EPSG:4324'}"
   ]
  },
  {
   "cell_type": "code",
   "execution_count": null,
   "metadata": {},
   "outputs": [],
   "source": [
    "fig, ax = plt.subplots(1,1, figsize=(2,2))\n",
    "cities.plot(color='darkblue', ax=ax, label='Cities', zorder=4)\n",
    "state.plot(edgecolor='gray',color='None', ax=ax, zorder=3)\n",
    "highway.plot(color='black', ax=ax, label='Highway', zorder=3)\n",
    "gdf.plot(color='k', ax=ax, label='Wells', markersize=0.0125, zorder=2)\n",
    "plt.ylim(48.5, 60.5)\n",
    "plt.xticks(fontsize=6)\n",
    "plt.yticks(fontsize=6)\n",
    "plt.xlabel('Longitude', fontsize=6)\n",
    "plt.ylabel('Latitude', fontsize=6)\n",
    "plt.legend(fontsize=6)\n",
    "#plt.savefig('mann_basemap.svg')"
   ]
  },
  {
   "cell_type": "code",
   "execution_count": null,
   "metadata": {},
   "outputs": [],
   "source": []
  }
 ],
 "metadata": {
  "jupytext": {
   "formats": "ipynb,py:light"
  },
  "kernelspec": {
   "display_name": "Python 3",
   "language": "python",
   "name": "python3"
  },
  "language_info": {
   "codemirror_mode": {
    "name": "ipython",
    "version": 3
   },
   "file_extension": ".py",
   "mimetype": "text/x-python",
   "name": "python",
   "nbconvert_exporter": "python",
   "pygments_lexer": "ipython3",
   "version": "3.8.5"
  }
 },
 "nbformat": 4,
 "nbformat_minor": 4
}
