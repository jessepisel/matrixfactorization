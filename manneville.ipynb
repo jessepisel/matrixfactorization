{
 "cells": [
  {
   "cell_type": "code",
   "execution_count": 1,
   "metadata": {},
   "outputs": [],
   "source": [
    "import glob\n",
    "import lasio\n",
    "\n",
    "import pandas as pd\n",
    "import numpy as np\n",
    "import matplotlib.pyplot as plt\n",
    "import torch\n",
    "from sklearn.preprocessing import binarize\n",
    "from colorsys import hsv_to_rgb\n",
    "from random import randint, uniform\n",
    "from sklearn.metrics import mean_absolute_error as MAE\n",
    "from sklearn.metrics import mean_squared_error as MSE\n",
    "\n",
    "%matplotlib inline"
   ]
  },
  {
   "cell_type": "code",
   "execution_count": null,
   "metadata": {},
   "outputs": [],
   "source": [
    "wells = glob.glob(r'E:\\UT Austin\\Datasets\\LAS_files\\mannville_demo_data\\*.las')\n",
    "\n",
    "uwi =[]\n",
    "datum = []\n",
    "ground = []\n",
    "for well in wells:\n",
    "    curve = lasio.read(well)\n",
    "    try:\n",
    "        da = curve.params['DATM'].value\n",
    "        gl = curve.params['GL'].value\n",
    "        u = curve.well['UWI'].value\n",
    "        \n",
    "        uwi.append(u)\n",
    "        datum.append(da)\n",
    "        ground.append(gl)\n",
    "    except:\n",
    "        print('failure')\n",
    "\n",
    "\n",
    "well_dict = pd.read_csv(r'mann_well_dict.csv')\n",
    "\n",
    "dataframe = pd.DataFrame({\"UWI\":uwi, \"DATUM\":datum, \"GL\":ground})\n",
    "\n",
    "new_df = pd.merge(dataframe, well_dict,  how='left', left_on=['UWI'], right_on = ['UWI'])\n"
   ]
  },
  {
   "cell_type": "code",
   "execution_count": null,
   "metadata": {},
   "outputs": [],
   "source": [
    "tops = pd.read_csv(r\"mannvillegrp_picks.csv\") #read in the top data\n",
    "tops.rename(columns={'Pick':'SS'}, inplace=True)\n",
    "\n",
    "new_df = pd.merge(tops, new_df,  how='left', left_on=['SitID'], right_on = ['SitID'])\n",
    "\n",
    "not_nullDF = new_df.loc[new_df['UWI'].notnull()]\n",
    "\n",
    "not_nullDF['TVDSS'] = (not_nullDF.GL-(not_nullDF.DATUM-not_nullDF.SS)).values"
   ]
  },
  {
   "cell_type": "code",
   "execution_count": null,
   "metadata": {},
   "outputs": [],
   "source": [
    "not_nullDF.to_csv('mannville_cleaned.csv')"
   ]
  },
  {
   "cell_type": "markdown",
   "metadata": {},
   "source": [
    "# Below are the predictions, above is cleaning"
   ]
  },
  {
   "cell_type": "code",
   "execution_count": 2,
   "metadata": {},
   "outputs": [],
   "source": [
    "tops = pd.read_csv(r\"mannville_cleaned.csv\", index_col=[0]) #read in the top data\n",
    "#tops.rename(columns={'TVDSS':'SS'}, inplace=True)"
   ]
  },
  {
   "cell_type": "code",
   "execution_count": 3,
   "metadata": {},
   "outputs": [],
   "source": [
    "tops.drop(tops[tops.SitID==123627].index.values, inplace=True)\n",
    "ssmin = tops.TVDSS.min()\n",
    "tops.TVDSS = tops.TVDSS #- ssmin #standardize the subsea values\n",
    "\n",
    "tops.dropna(inplace=True)\n"
   ]
  },
  {
   "cell_type": "code",
   "execution_count": 9,
   "metadata": {},
   "outputs": [
    {
     "name": "stdout",
     "output_type": "stream",
     "text": [
      "Training size is 11210 tops, and test size is 2802 tops\n"
     ]
    }
   ],
   "source": [
    "#tops.drop(['MD', 'GL', 'DELEV', 'DT'], axis=1, inplace=True)\n",
    "def sample_splitter(dataframe, fraction, randomseed):\n",
    "    test = dataframe.sample(frac=fraction, random_state=randomseed)\n",
    "    test_idx = test.index.values\n",
    "    train =  dataframe.drop(test_idx)\n",
    "    return train, test\n",
    "\n",
    "train, test = sample_splitter(tops, 0.2, 91)\n",
    "\n",
    "print(f'Training size is {len(train)} tops, and test size is {len(test)} tops')\n",
    "\n",
    "D_df = train.pivot_table(\"TVDSS\", \"Formation\", \"SitID\").fillna(0)#pivot table to move into sparse matrix land\n",
    "R = D_df.values\n",
    "A = binarize(R) "
   ]
  },
  {
   "cell_type": "code",
   "execution_count": 10,
   "metadata": {},
   "outputs": [
    {
     "name": "stdout",
     "output_type": "stream",
     "text": [
      "67.0 percent of the tops are missing\n"
     ]
    }
   ],
   "source": [
    "print(f'{round((D_df == 0).astype(int).sum().sum()/tops.shape[0], 2)*100} percent of the tops are missing')"
   ]
  },
  {
   "cell_type": "code",
   "execution_count": 11,
   "metadata": {},
   "outputs": [
    {
     "name": "stdout",
     "output_type": "stream",
     "text": [
      "Starting Iterations\n",
      "8.45422099469491\n",
      "24.036276321000667\n"
     ]
    }
   ],
   "source": [
    "#ALS factorization from \n",
    "# https://github.com/mickeykedia/Matrix-Factorization-ALS/blob/master/ALS%20Python%20Implementation.py\n",
    "# here items are the formation and users are the well\n",
    "def runALS(A, R, n_factors, n_iterations, lambda_):\n",
    "    \"\"\"\n",
    "    Runs Alternating Least Squares algorithm in order to calculate matrix.\n",
    "    :param A: User-Item Matrix with ratings\n",
    "    :param R: User-Item Matrix with 1 if there is a rating or 0 if not\n",
    "    :param n_factors: How many factors each of user and item matrix will consider\n",
    "    :param n_iterations: How many times to run algorithm\n",
    "    :param lambda_: Regularization parameter\n",
    "    :return:\n",
    "    \"\"\"\n",
    "    #print(\"Initiating \")\n",
    "    lambda_ = lambda_\n",
    "    n_factors = n_factors\n",
    "    n, m = A.shape\n",
    "    n_iterations = n_iterations\n",
    "    np.random.seed(86)\n",
    "    Users = 5 * np.random.rand(n, n_factors, )\n",
    "    Items = 5 * np.random.rand(n_factors, m)\n",
    "\n",
    "    def get_error(A, Users, Items, R):\n",
    "        # This calculates the MSE of nonzero elements\n",
    "        return np.sum((R * (A - np.dot(Users, Items))) ** 2) / np.sum(R)\n",
    "\n",
    "    MAE_List = []\n",
    "\n",
    "    print(\"Starting Iterations\")\n",
    "    for iter in range(n_iterations):\n",
    "        for i, Ri in enumerate(R):\n",
    "            Users[i] = np.linalg.solve(\n",
    "                np.dot(Items, np.dot(np.diag(Ri), Items.T))\n",
    "                + lambda_ * np.eye(n_factors),\n",
    "                np.dot(Items, np.dot(np.diag(Ri), A[i].T)),\n",
    "            ).T\n",
    "     #   print(\n",
    "     #       \"Error after solving for User Matrix:\",\n",
    "     #       get_error(A, Users, Items, R),\n",
    "     #   )\n",
    "\n",
    "        for j, Rj in enumerate(R.T):\n",
    "            Items[:, j] = np.linalg.solve(\n",
    "                np.dot(Users.T, np.dot(np.diag(Rj), Users))\n",
    "                + lambda_ * np.eye(n_factors),\n",
    "                np.dot(Users.T, np.dot(np.diag(Rj), A[:, j])),\n",
    "            )\n",
    "     #   print(\n",
    "     #       \"Error after solving for Item Matrix:\",\n",
    "     #       get_error(A, Users, Items, R),\n",
    "     #   )\n",
    "\n",
    "        MAE_List.append(get_error(A, Users, Items, R))\n",
    "     #   print(\"%sth iteration is complete...\" % iter)\n",
    "    \n",
    "   # print(MSE_List)\n",
    "   # fig = plt.figure()\n",
    "   # ax = fig.add_subplot(111)\n",
    "   # plt.plot(range(1, len(MSE_List) + 1), MSE_List); plt.ylabel('Error'); plt.xlabel('Iteration')\n",
    "   # plt.title('Python Implementation MSE by Iteration \\n with %d formations and %d wells' % A.shape);\n",
    "    # plt.savefig('Python MSE Graph.pdf', format='pdf')\n",
    "    return Users, Items\n",
    "\n",
    "U, Vt = runALS(R, A, 4, 50, 0.1)\n",
    "\n",
    "recommendations = np.dot(U, Vt) #get the recommendations\n",
    "\n",
    "recsys = pd.DataFrame(\n",
    "    data=recommendations[0:, 0:], index=D_df.index, columns=D_df.columns\n",
    ") #results\n",
    "\n",
    "newDF = recsys.T\n",
    "newDF.reset_index(inplace=True)\n",
    "\n",
    "flat_preds = pd.DataFrame(recsys.unstack()).reset_index()\n",
    "\n",
    "new_df = pd.merge(test, flat_preds,  how='left', left_on=['SitID','Formation'], right_on = ['SitID','Formation'])\n",
    "\n",
    "new_df.rename(columns={0:'SS_pred'}, inplace=True)\n",
    "\n",
    "cleanDF = new_df.dropna()\n",
    "\n",
    "cleanDF['signed_error'] = (cleanDF['TVDSS'] - cleanDF['SS_pred'])\n",
    "\n",
    "print(MAE(cleanDF.SS.values-ssmin, cleanDF.SS_pred.values-ssmin))\n",
    "print(np.sqrt(MSE(cleanDF.SS.values-ssmin, cleanDF.SS_pred.values-ssmin)))"
   ]
  },
  {
   "cell_type": "code",
   "execution_count": 12,
   "metadata": {},
   "outputs": [
    {
     "data": {
      "text/plain": [
       "<matplotlib.colorbar.Colorbar at 0x1da9b500898>"
      ]
     },
     "execution_count": 12,
     "metadata": {},
     "output_type": "execute_result"
    },
    {
     "data": {
      "image/png": "[encoded data removed]",
      "text/plain": [
       "<Figure size 576x576 with 2 Axes>"
      ]
     },
     "metadata": {
      "needs_background": "light"
     },
     "output_type": "display_data"
    }
   ],
   "source": [
    "plt.figure(figsize=(8,8))\n",
    "plt.scatter(cleanDF.TVDSS+ssmin, cleanDF.SS_pred+ssmin, c=cleanDF.signed_error, vmin=-100,vmax=100, \n",
    "            cmap='seismic', s=100, alpha=0.5)\n",
    "plt.plot()\n",
    "plt.xlabel('actual')\n",
    "plt.ylabel('predicted')\n",
    "plt.colorbar()"
   ]
  },
  {
   "cell_type": "code",
   "execution_count": 13,
   "metadata": {},
   "outputs": [],
   "source": [
    "def cross_validation(dataframe, random_seed, latent_vectors, n_iters):\n",
    "    np.random.seed(random_seed)\n",
    "    block_1  = np.random.choice(dataframe.index, size=dataframe.shape[0]//4)\n",
    "    tops2 = dataframe.drop(block_1)\n",
    "    block_2 = np.random.choice(tops2.index, size=tops.shape[0]//4)\n",
    "    tops3 = tops2.drop(block_2)\n",
    "    block_3 = np.random.choice(tops3.index, size=tops.shape[0]//4)\n",
    "    tops4 = tops3.drop(block_3)\n",
    "    block_4 = np.random.choice(tops4.index, size=tops.shape[0]//4)\n",
    "    blocks = [block_1, block_2, block_3, block_4]\n",
    "    CV_MAE = []\n",
    "    for block in blocks:\n",
    "        validate = dataframe.loc[block]\n",
    "        main_group = dataframe.drop(block)\n",
    "        print(f'Validating on {block.shape[0]} tops')\n",
    "        D_df = main_group.pivot_table(\"TVDSS\", \"Formation\", \"SitID\").fillna(0)#pivot table to move into sparse matrix land\n",
    "        R = D_df.values\n",
    "        A = binarize(R) \n",
    "\n",
    "        \n",
    "        U, Vt = runALS(R, A, latent_vectors, n_iters, 0.1)\n",
    "\n",
    "        recommendations = np.dot(U, Vt) #get the recommendations\n",
    "\n",
    "        recsys = pd.DataFrame(\n",
    "            data=recommendations[0:, 0:], index=D_df.index, columns=D_df.columns\n",
    "        ) #results\n",
    "\n",
    "        newDF = recsys.T\n",
    "        newDF.reset_index(inplace=True)\n",
    "\n",
    "        flat_preds = pd.DataFrame(recsys.unstack()).reset_index()\n",
    "\n",
    "        new_df = pd.merge(validate, flat_preds,  how='left', left_on=['SitID','Formation'], right_on = ['SitID','Formation'])\n",
    "\n",
    "        new_df.rename(columns={0:'SS_pred'}, inplace=True)\n",
    "\n",
    "        cleanDF = new_df.dropna()\n",
    "\n",
    "        cleanDF['signed_error'] = (cleanDF['TVDSS'] - cleanDF['SS_pred'])\n",
    "\n",
    "        CV_MAE.append(MAE(cleanDF.SS.values-ssmin, cleanDF.SS_pred.values-ssmin))\n",
    "\n",
    "    return CV_MAE"
   ]
  },
  {
   "cell_type": "code",
   "execution_count": 15,
   "metadata": {},
   "outputs": [
    {
     "name": "stdout",
     "output_type": "stream",
     "text": [
      "Validating on 3503 tops\n",
      "Starting Iterations\n",
      "Validating on 3503 tops\n",
      "Starting Iterations\n"
     ]
    },
    {
     "name": "stderr",
     "output_type": "stream",
     "text": [
      "C:\\Users\\jrp4932\\AppData\\Local\\Continuum\\anaconda3\\envs\\pytorch\\lib\\site-packages\\ipykernel_launcher.py:40: SettingWithCopyWarning: \n",
      "A value is trying to be set on a copy of a slice from a DataFrame.\n",
      "Try using .loc[row_indexer,col_indexer] = value instead\n",
      "\n",
      "See the caveats in the documentation: https://pandas.pydata.org/pandas-docs/stable/user_guide/indexing.html#returning-a-view-versus-a-copy\n"
     ]
    },
    {
     "name": "stdout",
     "output_type": "stream",
     "text": [
      "Validating on 3503 tops\n",
      "Starting Iterations\n",
      "Validating on 3503 tops\n",
      "Starting Iterations\n"
     ]
    },
    {
     "data": {
      "text/plain": [
       "[9.786857080609016, 9.812743313939622, 10.345148504414682, 9.021499334247872]"
      ]
     },
     "execution_count": 15,
     "metadata": {},
     "output_type": "execute_result"
    }
   ],
   "source": [
    "cross_validation(tops, 86, 4, 200)"
   ]
  },
  {
   "cell_type": "code",
   "execution_count": null,
   "metadata": {},
   "outputs": [],
   "source": []
  }
 ],
 "metadata": {
  "kernelspec": {
   "display_name": "Python 3",
   "language": "python",
   "name": "python3"
  },
  "language_info": {
   "codemirror_mode": {
    "name": "ipython",
    "version": 3
   },
   "file_extension": ".py",
   "mimetype": "text/x-python",
   "name": "python",
   "nbconvert_exporter": "python",
   "pygments_lexer": "ipython3",
   "version": "3.6.10"
  }
 },
 "nbformat": 4,
 "nbformat_minor": 4
}
