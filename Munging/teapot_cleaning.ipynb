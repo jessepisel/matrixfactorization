{
 "cells": [
  {
   "cell_type": "code",
   "execution_count": 120,
   "metadata": {},
   "outputs": [],
   "source": [
    "import pandas as pd\n",
    "import numpy as np\n",
    "\n",
    "headers = pd.read_csv('TeapotDomeWellHeaders_outliers_JRP.csv')\n",
    "headers.rename(columns={'API Number': 'API'}, inplace=True)\n",
    "\n",
    "tops = pd.read_csv(r'teapot.csv')\n",
    "\n",
    "elevations = []\n",
    "ground_level = []\n",
    "datum_type = []\n",
    "API = []\n",
    "Formation = []\n",
    "MD = []\n",
    "for well in range(tops.shape[0]):\n",
    "    well_api = tops.iloc[well].API\n",
    "    row = headers[headers.API == well_api]\n",
    "    if row.shape[0]>0:\n",
    "        elevations.append(row['Datum Elevation'].values[0])\n",
    "        ground_level.append(row['Ground Elevation'].values[0])\n",
    "        datum_type.append(row['Datum Type'].values[0])\n",
    "        API.append(well_api)\n",
    "        Formation.append(tops.iloc[well].Formation)\n",
    "        MD.append(tops.iloc[well].MD)\n",
    "\n",
    "tea = pd.DataFrame({'API':API, 'Formation': Formation, 'MD':MD, 'GL':ground_level, 'DELEV': elevations, 'DT': datum_type})\n",
    "\n",
    "TVDSS = []\n",
    "for well in range(tea.shape[0]):\n",
    "    row = tea.iloc[well]\n",
    "    TVDSS.append(row.GL-row.MD-(row.DELEV-row.GL))\n",
    "\n",
    "tea['TVDSS'] = TVDSS\n",
    "tea.to_csv(r'teapot_clean_JRP.csv')"
   ]
  },
  {
   "cell_type": "code",
   "execution_count": null,
   "metadata": {},
   "outputs": [],
   "source": []
  }
 ],
 "metadata": {
  "kernelspec": {
   "display_name": "Python 3",
   "language": "python",
   "name": "python3"
  },
  "language_info": {
   "codemirror_mode": {
    "name": "ipython",
    "version": 3
   },
   "file_extension": ".py",
   "mimetype": "text/x-python",
   "name": "python",
   "nbconvert_exporter": "python",
   "pygments_lexer": "ipython3",
   "version": "3.6.7"
  }
 },
 "nbformat": 4,
 "nbformat_minor": 4
}
