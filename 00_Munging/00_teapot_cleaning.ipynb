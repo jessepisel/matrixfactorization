{
 "cells": [
  {
   "cell_type": "markdown",
   "metadata": {},
   "source": [
    "# Initial Munging\n",
    "This notebook takes two `.csv` files and combines the Teapot Dome well headers with the formation top picks `teapot.csv` to create a cleaned file `teapot_clean.csv`"
   ]
  },
  {
   "cell_type": "code",
   "execution_count": null,
   "metadata": {},
   "outputs": [],
   "source": [
    "import pandas as pd\n",
    "\n",
    "HEADERS = pd.read_csv(\"TeapotDomeWellHeaders.csv\")\n",
    "HEADERS.rename(columns={\"API Number\": \"API\"}, inplace=True)\n",
    "\n",
    "TOPS = pd.read_csv(r\"teapot.csv\")\n",
    "\n",
    "ELEVATIONS = []\n",
    "GROUND_LEVEL = []\n",
    "DATUM_TYPE = []\n",
    "API = []\n",
    "FORMATION = []\n",
    "MD = []\n",
    "for well in range(TOPS.shape[0]):\n",
    "    well_api = TOPS.iloc[well].API\n",
    "    row = HEADERS[HEADERS.API == well_api]\n",
    "    if row.shape[0] > 0:\n",
    "        ELEVATIONS.append(row[\"Datum Elevation\"].values[0])\n",
    "        GROUND_LEVEL.append(row[\"Ground Elevation\"].values[0])\n",
    "        DATUM_TYPE.append(row[\"Datum Type\"].values[0])\n",
    "        API.append(well_api)\n",
    "        FORMATION.append(TOPS.iloc[well].Formation)\n",
    "        MD.append(TOPS.iloc[well].MD)\n",
    "\n",
    "TEA = pd.DataFrame(\n",
    "    {\n",
    "        \"API\": API,\n",
    "        \"Formation\": FORMATION,\n",
    "        \"MD\": MD,\n",
    "        \"GL\": GROUND_LEVEL,\n",
    "        \"DELEV\": ELEVATIONS,\n",
    "        \"DT\": DATUM_TYPE,\n",
    "    }\n",
    ")\n",
    "\n",
    "TVDSS = []\n",
    "for well in range(TEA.shape[0]):\n",
    "    row = TEA.iloc[well]\n",
    "    tvdss = row.GL - (row.MD - (row.DELEV - row.GL))\n",
    "    TVDSS.append(row.GL - (row.MD - (row.DELEV - row.GL)))\n",
    "\n",
    "TEA[\"TVDSS\"] = TVDSS\n",
    "TEA.to_csv(r\"../01_teapot_rec_sys/teapot_clean.csv\", float_format=\"%.2f\")"
   ]
  },
  {
   "cell_type": "code",
   "execution_count": null,
   "metadata": {},
   "outputs": [],
   "source": []
  }
 ],
 "metadata": {
  "jupytext": {
   "formats": "ipynb,py:hydrogen"
  },
  "kernelspec": {
   "display_name": "Python 3",
   "language": "python",
   "name": "python3"
  },
  "language_info": {
   "codemirror_mode": {
    "name": "ipython",
    "version": 3
   },
   "file_extension": ".py",
   "mimetype": "text/x-python",
   "name": "python",
   "nbconvert_exporter": "python",
   "pygments_lexer": "ipython3",
   "version": "3.8.5"
  }
 },
 "nbformat": 4,
 "nbformat_minor": 4
}
