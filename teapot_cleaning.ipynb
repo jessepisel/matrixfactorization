{
 "cells": [
  {
   "cell_type": "code",
   "execution_count": 120,
   "metadata": {},
   "outputs": [],
   "source": [
    "import pandas as pd\n",
    "import numpy as np\n",
    "\n",
    "headers = pd.read_csv('TeapotDomeWellHeaders_outliers_JRP.csv')\n",
    "headers.rename(columns={'API Number': 'API'}, inplace=True)\n",
    "\n",
    "tops = pd.read_csv(r'teapot.csv')\n",
    "\n",
    "elevations = []\n",
    "ground_level = []\n",
    "datum_type = []\n",
    "API = []\n",
    "Formation = []\n",
    "MD = []\n",
    "for well in range(tops.shape[0]):\n",
    "    well_api = tops.iloc[well].API\n",
    "    row = headers[headers.API == well_api]\n",
    "    if row.shape[0]>0:\n",
    "        elevations.append(row['Datum Elevation'].values[0])\n",
    "        ground_level.append(row['Ground Elevation'].values[0])\n",
    "        datum_type.append(row['Datum Type'].values[0])\n",
    "        API.append(well_api)\n",
    "        Formation.append(tops.iloc[well].Formation)\n",
    "        MD.append(tops.iloc[well].MD)\n",
    "\n",
    "tea = pd.DataFrame({'API':API, 'Formation': Formation, 'MD':MD, 'GL':ground_level, 'DELEV': elevations, 'DT': datum_type})\n",
    "\n",
    "TVDSS = []\n",
    "for well in range(tea.shape[0]):\n",
    "    row = tea.iloc[well]\n",
    "    TVDSS.append(row.GL-row.MD-(row.DELEV-row.GL))\n",
    "\n",
    "tea['TVDSS'] = TVDSS\n",
    "tea.to_csv(r'teapot_clean_JRP.csv')"
   ]
  },
  {
   "cell_type": "code",
   "execution_count": 135,
   "metadata": {},
   "outputs": [
    {
     "data": {
      "text/plain": [
       "SHNNl                 920\n",
       "SHNNu                 916\n",
       "SHNNbs                669\n",
       "SSXbase               351\n",
       "F1WC                  332\n",
       "F1WCbase              332\n",
       "F2WC                  324\n",
       "F2WCbase              289\n",
       "B1                    276\n",
       "CRLL                  268\n",
       "SSXS                  264\n",
       "NBRRws                189\n",
       "NBRRsg                188\n",
       "StAM                  108\n",
       "StBR                  100\n",
       "StFT                  100\n",
       "F1WCBench1Base         95\n",
       "StGD                   90\n",
       "F1WCBench2Top          88\n",
       "F1WCBench3Top          74\n",
       "F1WCBench2Base         73\n",
       "F3WC                   54\n",
       "MWRY                   53\n",
       "DKOT                   46\n",
       "F3WCbase               44\n",
       "MNKT                   36\n",
       "B Sand                 35\n",
       "B Dolo                 35\n",
       "OPCH                   34\n",
       "A Sand                 33\n",
       "C1 Dolo                32\n",
       "LKOT                   31\n",
       "MRSN                   31\n",
       "MDDY                   31\n",
       "THRM                   29\n",
       "CRMT                   18\n",
       "ALCV                   15\n",
       "RDPK                   15\n",
       "TensleepFluidLevel     12\n",
       "SNDCu                   7\n",
       "C3 Sand                 5\n",
       "C4 Sand                 5\n",
       "C4 Dolo                 5\n",
       "CNSP                    5\n",
       "C2 Sand                 5\n",
       "C3 Dolo                 4\n",
       "FRLL                    3\n",
       "C1 Sand                 2\n",
       "C2 Dolo                 2\n",
       "ERVY                    2\n",
       "D Dolo                  2\n",
       "LAKss                   1\n",
       "D Sand                  1\n",
       "StTC                    1\n",
       "AMSD                    1\n",
       "E Dolo                  1\n",
       "PC                      1\n",
       "LAKev                   1\n",
       "GLND                    1\n",
       "MDSN                    1\n",
       "Name: Formation, dtype: int64"
      ]
     },
     "execution_count": 135,
     "metadata": {},
     "output_type": "execute_result"
    }
   ],
   "source": [
    "tea.Formation.value_counts()"
   ]
  },
  {
   "cell_type": "code",
   "execution_count": 149,
   "metadata": {},
   "outputs": [],
   "source": [
    "to_drop = tea[tea.Formation.isin(['TensleepFluidLevel',\n",
    "'SNDCu',\n",
    "'C3 Sand',\n",
    "'C4 Sand',\n",
    "'C4 Dolo',\n",
    "'CNSP',\n",
    "'C2 Sand',\n",
    "'C3 Dolo',\n",
    "'FRLL',\n",
    "'C1 Sand',\n",
    "'C2 Dolo',\n",
    "'ERVY',\n",
    "'D Dolo',\n",
    "'LAKss',\n",
    "'D Sand',\n",
    "'StTC',\n",
    "'AMSD',\n",
    "'E Dolo',\n",
    "'PC',\n",
    "'LAKev',\n",
    "'GLND',\n",
    "'MDSN', 'B1'])].index.values"
   ]
  },
  {
   "cell_type": "code",
   "execution_count": 150,
   "metadata": {},
   "outputs": [],
   "source": [
    "tea.drop(to_drop, inplace=True)"
   ]
  },
  {
   "cell_type": "code",
   "execution_count": 151,
   "metadata": {},
   "outputs": [
    {
     "data": {
      "text/plain": [
       "SHNNl             920\n",
       "SHNNu             916\n",
       "SHNNbs            669\n",
       "SSXbase           351\n",
       "F1WCbase          332\n",
       "F1WC              332\n",
       "F2WC              324\n",
       "F2WCbase          289\n",
       "CRLL              268\n",
       "SSXS              264\n",
       "NBRRws            189\n",
       "NBRRsg            188\n",
       "StAM              108\n",
       "StFT              100\n",
       "StBR              100\n",
       "F1WCBench1Base     95\n",
       "StGD               90\n",
       "F1WCBench2Top      88\n",
       "F1WCBench3Top      74\n",
       "F1WCBench2Base     73\n",
       "F3WC               54\n",
       "MWRY               53\n",
       "DKOT               46\n",
       "F3WCbase           44\n",
       "MNKT               36\n",
       "B Sand             35\n",
       "B Dolo             35\n",
       "OPCH               34\n",
       "A Sand             33\n",
       "C1 Dolo            32\n",
       "MDDY               31\n",
       "MRSN               31\n",
       "LKOT               31\n",
       "THRM               29\n",
       "CRMT               18\n",
       "RDPK               15\n",
       "ALCV               15\n",
       "Name: Formation, dtype: int64"
      ]
     },
     "execution_count": 151,
     "metadata": {},
     "output_type": "execute_result"
    }
   ],
   "source": [
    "tea.Formation.value_counts()"
   ]
  },
  {
   "cell_type": "code",
   "execution_count": 152,
   "metadata": {},
   "outputs": [],
   "source": [
    "tea.to_csv('teapot_clean_JRP_morethan15.csv')"
   ]
  },
  {
   "cell_type": "code",
   "execution_count": null,
   "metadata": {},
   "outputs": [],
   "source": []
  }
 ],
 "metadata": {
  "kernelspec": {
   "display_name": "Python 3",
   "language": "python",
   "name": "python3"
  },
  "language_info": {
   "codemirror_mode": {
    "name": "ipython",
    "version": 3
   },
   "file_extension": ".py",
   "mimetype": "text/x-python",
   "name": "python",
   "nbconvert_exporter": "python",
   "pygments_lexer": "ipython3",
   "version": "3.6.10"
  }
 },
 "nbformat": 4,
 "nbformat_minor": 4
}
